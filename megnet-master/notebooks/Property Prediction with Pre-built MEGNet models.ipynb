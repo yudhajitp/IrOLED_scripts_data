{
 "cells": [
  {
   "cell_type": "markdown",
   "metadata": {
    "colab": {
     "base_uri": "https://localhost:8080/"
    },
    "id": "RUDLgYFjpgK2",
    "outputId": "8c5b1c1f-edb2-4e2f-92dd-dfb550659eec"
   },
   "source": [
    "# Introduction\n",
    "\n",
    "This notebook is written as part of the hands-on tutorial for the LLNL CCMS Summer Institute Seminar 2022 (https://pls.llnl.gov/careers/internship-programs/computational-chemistry-and-materials-science-summer-institute) given by Prof Shyue Ping Ong."
   ]
  },
  {
   "cell_type": "markdown",
   "metadata": {},
   "source": [
    "If you are running this notebook from Google Colab, uncomment the next code box to install megnet first."
   ]
  },
  {
   "cell_type": "code",
   "execution_count": 1,
   "metadata": {},
   "outputs": [],
   "source": [
    "# !pip install megnet pymatgen==2022.7.24.1"
   ]
  },
  {
   "cell_type": "code",
   "execution_count": 2,
   "metadata": {
    "colab": {
     "base_uri": "https://localhost:8080/"
    },
    "id": "kcBP6XS7phgR",
    "outputId": "854a7e34-2b81-4d17-a41c-7e84bfdbc5fc"
   },
   "outputs": [
    {
     "name": "stderr",
     "output_type": "stream",
     "text": [
      "/Users/shyue/repos/pymatgen/pymatgen/analysis/phase_diagram.py:24: TqdmExperimentalWarning: Using `tqdm.autonotebook.tqdm` in notebook mode. Use `tqdm.tqdm` instead to force console mode (e.g. in jupyter console)\n",
      "  from tqdm.autonotebook import tqdm\n"
     ]
    }
   ],
   "source": [
    "from megnet.utils.models import load_model, AVAILABLE_MODELS\n",
    "from pymatgen.core import Structure, Lattice\n",
    "from pymatgen.ext.matproj import MPRester"
   ]
  },
  {
   "cell_type": "markdown",
   "metadata": {},
   "source": [
    "By default, MEGNet already comes with some ready-to-use models trained on the Materials Project. "
   ]
  },
  {
   "cell_type": "code",
   "execution_count": 3,
   "metadata": {},
   "outputs": [
    {
     "name": "stdout",
     "output_type": "stream",
     "text": [
      "['Eform_MP_2019', 'Eform_MP_2018', 'Efermi_MP_2019', 'Bandgap_classifier_MP_2018', 'Bandgap_MP_2018', 'logK_MP_2018', 'logG_MP_2018', 'logK_MP_2019', 'logG_MP_2019', 'QM9_omega1_2018', 'QM9_alpha_2018', 'QM9_H_2018', 'QM9_gap_2018', 'QM9_ZPVE_2018', 'QM9_HOMO_2018', 'QM9_R2_2018', 'QM9_U_2018', 'QM9_LUMO_2018', 'QM9_Cv_2018', 'QM9_mu_2018', 'QM9_U0_2018', 'QM9_G_2018']\n"
     ]
    }
   ],
   "source": [
    "print(AVAILABLE_MODELS)"
   ]
  },
  {
   "cell_type": "markdown",
   "metadata": {},
   "source": [
    "We will first use the MPRester interface to get relaxed structures from the Materials Project (https://materialsproject.org). Here, we deliberately select two very different structures:\n",
    "- bcc Mo, for which MP has already computed the elastic constants (https://materialsproject.org/materials/mp-129).\n",
    "- Li10GeP2S12 (LGPS), a well-known lithium superionic conductor for which MP has not calculated the elastic constants (https://materialsproject.org/materials/mp-696128)."
   ]
  },
  {
   "cell_type": "code",
   "execution_count": 4,
   "metadata": {
    "id": "l7Un9g1LrPuT"
   },
   "outputs": [],
   "source": [
    "mpr = MPRester()\n",
    "\n",
    "# Mo: mp-129\n",
    "# Li10GeP2S12: mp-696128\n",
    "\n",
    "structures = {}\n",
    "\n",
    "structures[\"Mo\"] = mpr.get_structure_by_material_id(\"mp-129\")\n",
    "structures[\"LGPS\"] = mpr.get_structure_by_material_id(\"mp-696128\")"
   ]
  },
  {
   "cell_type": "code",
   "execution_count": 5,
   "metadata": {
    "colab": {
     "base_uri": "https://localhost:8080/"
    },
    "id": "rRPndHDArtdl",
    "outputId": "aa6c40ba-7e6c-4405-d831-1d218af7791f"
   },
   "outputs": [
    {
     "name": "stderr",
     "output_type": "stream",
     "text": [
      "2022-07-24 15:05:23.647579: W tensorflow/core/platform/profile_utils/cpu_utils.cc:128] Failed to get CPU frequency: 0 Hz\n"
     ]
    },
    {
     "name": "stdout",
     "output_type": "stream",
     "text": [
      "1/1 [==============================] - 1s 1s/step\n",
      "The predicted Eform for Mo is -0.003 eV/atom.\n",
      "1/1 [==============================] - 1s 1s/step\n",
      "The predicted Eform for LGPS is -1.278 eV/atom.\n",
      "1/1 [==============================] - 1s 1s/step\n",
      "The predicted Efermi for Mo is 8.401 eV.\n",
      "1/1 [==============================] - 1s 1s/step\n",
      "The predicted Efermi for LGPS is 1.467 eV.\n",
      "WARNING:tensorflow:5 out of the last 5 calls to <function Model.make_predict_function.<locals>.predict_function at 0x2bdccfb80> triggered tf.function retracing. Tracing is expensive and the excessive number of tracings could be due to (1) creating @tf.function repeatedly in a loop, (2) passing tensors with different shapes, (3) passing Python objects instead of tensors. For (1), please define your @tf.function outside of the loop. For (2), @tf.function has reduce_retracing=True option that can avoid unnecessary retracing. For (3), please refer to https://www.tensorflow.org/guide/function#controlling_retracing and https://www.tensorflow.org/api_docs/python/tf/function for  more details.\n",
      "1/1 [==============================] - 2s 2s/step\n",
      "The predicted K for Mo is 268.447 10(GPa).\n",
      "WARNING:tensorflow:6 out of the last 6 calls to <function Model.make_predict_function.<locals>.predict_function at 0x2bdccfb80> triggered tf.function retracing. Tracing is expensive and the excessive number of tracings could be due to (1) creating @tf.function repeatedly in a loop, (2) passing tensors with different shapes, (3) passing Python objects instead of tensors. For (1), please define your @tf.function outside of the loop. For (2), @tf.function has reduce_retracing=True option that can avoid unnecessary retracing. For (3), please refer to https://www.tensorflow.org/guide/function#controlling_retracing and https://www.tensorflow.org/api_docs/python/tf/function for  more details.\n",
      "1/1 [==============================] - 2s 2s/step\n",
      "The predicted K for LGPS is 23.273 10(GPa).\n",
      "1/1 [==============================] - 2s 2s/step\n",
      "The predicted G for Mo is 74.273 10(GPa).\n",
      "1/1 [==============================] - 2s 2s/step\n",
      "The predicted G for LGPS is 9.737 10(GPa).\n"
     ]
    }
   ],
   "source": [
    "for model_name in AVAILABLE_MODELS:\n",
    "    if model_name.endswith(\"_2019\"):\n",
    "        model = load_model(model_name)\n",
    "        model.metadata\n",
    "        for name, structure in structures.items():\n",
    "            if model_name.startswith(\"log\"):\n",
    "                prediction = 10 ** model.predict_structure(structure).ravel()[0]\n",
    "            else:\n",
    "                prediction = model.predict_structure(structure).ravel()[0]\n",
    "            prop_name = model_name.split(\"_\")[0].replace(\"log\", \"\")\n",
    "            print(f'The predicted {prop_name} for {name} is {prediction:.3f} {model.metadata[\"unit\"].replace(\"log\", \"\")}.')"
   ]
  },
  {
   "cell_type": "markdown",
   "metadata": {},
   "source": [
    "We may make the following observations:\n",
    "- The formation energy of Mo is correctly predicted to be close to 0 (elemental reference state).\n",
    "- The K of Mo is predicted to be 268 GPa, quite close to the MP value of 262 GPa. Note that this is not surprising as Mo is part of the training data for the MEGNet model to begin with. \n",
    "- In the paper \"Elastic Properties of Alkali Superionic Conductor Electrolytes from First Principles Calculations\" by Deng et al. [DOI: 10.1149/2.0061602jes](http://dx.doi.org/10.1149/2.0061602jes), the Materials Virtual Lab calculated the bulk modulus of LGPS to be 27.3 GPa and the shear modulus to be 7.9 GPa. This is in very good agreement with the predictions, even though it they are not in the original dataset."
   ]
  },
  {
   "cell_type": "code",
   "execution_count": null,
   "metadata": {},
   "outputs": [],
   "source": []
  }
 ],
 "metadata": {
  "colab": {
   "collapsed_sections": [],
   "name": "MEGNet demo.ipynb",
   "provenance": []
  },
  "kernelspec": {
   "display_name": "Python 3 (ipykernel)",
   "language": "python",
   "name": "python3"
  },
  "language_info": {
   "codemirror_mode": {
    "name": "ipython",
    "version": 3
   },
   "file_extension": ".py",
   "mimetype": "text/x-python",
   "name": "python",
   "nbconvert_exporter": "python",
   "pygments_lexer": "ipython3",
   "version": "3.9.12"
  }
 },
 "nbformat": 4,
 "nbformat_minor": 1
}
